{
 "cells": [
  {
   "cell_type": "code",
   "execution_count": 37,
   "id": "cadabf53",
   "metadata": {},
   "outputs": [
    {
     "data": {
      "text/plain": [
       "30"
      ]
     },
     "execution_count": 37,
     "metadata": {},
     "output_type": "execute_result"
    }
   ],
   "source": [
    "import re\n",
    "ops=[\"5\",\"2\",\"C\",\"D\",\"+\"]\n",
    "ops2=[\"5\",\"-2\",\"-4\",\"C\",\"D\",\"9\",\"+\",\"+\"]\n",
    "ops3=[\"1\"]\n",
    "l=[]\n",
    "\n",
    "\n",
    "\n",
    "for i in range(0,len(ops)):\n",
    "    if ops[i].lstrip(\"-\").isdigit():\n",
    "        l.append(int(ops[i]))\n",
    "\n",
    "\n",
    "    elif ops[i]==\"C\":\n",
    "        del l[-1]\n",
    "\n",
    "    elif ops[i]==\"D\":\n",
    "        l.append(l[-1]*2)\n",
    "\n",
    "    \n",
    "    elif ops[i]==\"+\":\n",
    "        l.append(l[-1]+l[-2])\n",
    "\n",
    "        \n",
    "sum(l)"
   ]
  },
  {
   "cell_type": "code",
   "execution_count": 25,
   "id": "81052e12",
   "metadata": {},
   "outputs": [
    {
     "data": {
      "text/plain": [
       "-2"
      ]
     },
     "execution_count": 25,
     "metadata": {},
     "output_type": "execute_result"
    }
   ],
   "source": []
  },
  {
   "cell_type": "code",
   "execution_count": 27,
   "id": "8be73b1a",
   "metadata": {},
   "outputs": [
    {
     "data": {
      "text/plain": [
       "False"
      ]
     },
     "execution_count": 27,
     "metadata": {},
     "output_type": "execute_result"
    }
   ],
   "source": []
  },
  {
   "cell_type": "code",
   "execution_count": null,
   "id": "ab6a5554",
   "metadata": {},
   "outputs": [],
   "source": []
  }
 ],
 "metadata": {
  "kernelspec": {
   "display_name": "Python 3 (ipykernel)",
   "language": "python",
   "name": "python3"
  },
  "language_info": {
   "codemirror_mode": {
    "name": "ipython",
    "version": 3
   },
   "file_extension": ".py",
   "mimetype": "text/x-python",
   "name": "python",
   "nbconvert_exporter": "python",
   "pygments_lexer": "ipython3",
   "version": "3.9.13"
  }
 },
 "nbformat": 4,
 "nbformat_minor": 5
}
